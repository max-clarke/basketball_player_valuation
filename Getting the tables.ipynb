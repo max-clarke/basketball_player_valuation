{
 "cells": [
  {
   "cell_type": "code",
   "execution_count": 7,
   "metadata": {
    "ExecuteTime": {
     "end_time": "2019-01-16T20:52:51.198196Z",
     "start_time": "2019-01-16T20:52:51.194578Z"
    }
   },
   "outputs": [],
   "source": [
    "import selenium\n",
    "import pickle\n",
    "import basketball\n",
    "import requests\n",
    "\n",
    "import pandas as pd\n",
    "\n",
    "from bs4 import BeautifulSoup"
   ]
  },
  {
   "cell_type": "code",
   "execution_count": 2,
   "metadata": {
    "ExecuteTime": {
     "end_time": "2019-01-16T20:51:18.391076Z",
     "start_time": "2019-01-16T20:51:17.976511Z"
    }
   },
   "outputs": [],
   "source": [
    "# need urls\n",
    "\n",
    "# we will focus only on the year 1999\n",
    "starting_url = 'https://www.basketball-reference.com/leagues/NBA_1999.html'\n",
    "\n",
    "d  = {'id': 'teams_active'}\n",
    "page = requests.get(starting_url)\n",
    "soup = BeautifulSoup(page.text, 'lxml')"
   ]
  },
  {
   "cell_type": "code",
   "execution_count": 3,
   "metadata": {
    "ExecuteTime": {
     "end_time": "2019-01-16T20:51:18.403845Z",
     "start_time": "2019-01-16T20:51:18.394995Z"
    }
   },
   "outputs": [],
   "source": [
    "# this gets a list of the all teams in the nba\n",
    "trs = soup.find_all('tr')\n",
    "\n",
    "team_links = []\n",
    "teams = []\n",
    "\n",
    "for tr in trs:\n",
    "    if tr.a:\n",
    "        link = tr.a['href'].strip('/teams/').strip('/')\n",
    "        team_links.append(link)\n",
    "        teams.append(link.strip('/1999.html'))\n"
   ]
  },
  {
   "cell_type": "markdown",
   "metadata": {
    "ExecuteTime": {
     "end_time": "2019-01-15T21:23:47.478121Z",
     "start_time": "2019-01-15T21:23:47.471935Z"
    }
   },
   "source": [
    "now I have a list of teams. I can scrape each team page."
   ]
  },
  {
   "cell_type": "code",
   "execution_count": 4,
   "metadata": {
    "ExecuteTime": {
     "end_time": "2019-01-16T20:51:19.180152Z",
     "start_time": "2019-01-16T20:51:19.168231Z"
    }
   },
   "outputs": [
    {
     "data": {
      "text/plain": [
       "['https://www.basketball-reference.com/teams/MIA/1999.html',\n",
       " 'https://www.basketball-reference.com/teams/MIA/1999.html',\n",
       " 'https://www.basketball-reference.com/teams/ORL/1999.html']"
      ]
     },
     "execution_count": 4,
     "metadata": {},
     "output_type": "execute_result"
    }
   ],
   "source": [
    "urls = ['https://www.basketball-reference.com/teams/{}'.format(link) for link in team_links]\n",
    "urls[:3]"
   ]
  },
  {
   "cell_type": "code",
   "execution_count": 5,
   "metadata": {
    "ExecuteTime": {
     "end_time": "2019-01-16T20:51:43.345704Z",
     "start_time": "2019-01-16T20:51:19.786322Z"
    }
   },
   "outputs": [
    {
     "data": {
      "text/plain": [
       "dict_keys(['MIA', 'ORL', 'PHI', 'NYK', 'BOS', 'WAS', 'NJN', 'IND', 'ATL', 'DET', 'MIL', 'CHH', 'TOR', 'CLE', 'CHI', 'SAS', 'UTA', 'HOU', 'MIN', 'DAL', 'DEN', 'VAN', 'POR', 'LAL', 'PHO', 'SAC', 'SEA', 'GSW', 'LAC'])"
      ]
     },
     "execution_count": 5,
     "metadata": {},
     "output_type": "execute_result"
    }
   ],
   "source": [
    "import time\n",
    "\n",
    "database = {}\n",
    "\n",
    "for url, team in zip(urls, teams):\n",
    "    \n",
    "    database[team] = basketball.get_tables(url)\n",
    "    time.sleep(.1)\n",
    "    \n",
    "database.keys()"
   ]
  },
  {
   "cell_type": "code",
   "execution_count": 6,
   "metadata": {
    "ExecuteTime": {
     "end_time": "2019-01-16T20:51:43.513886Z",
     "start_time": "2019-01-16T20:51:43.350626Z"
    }
   },
   "outputs": [],
   "source": [
    "with open('database.pickle', 'wb') as f:\n",
    "    pickle.dump(database, f)"
   ]
  },
  {
   "cell_type": "code",
   "execution_count": null,
   "metadata": {},
   "outputs": [],
   "source": []
  }
 ],
 "metadata": {
  "kernelspec": {
   "display_name": "Python 3",
   "language": "python",
   "name": "python3"
  },
  "language_info": {
   "codemirror_mode": {
    "name": "ipython",
    "version": 3
   },
   "file_extension": ".py",
   "mimetype": "text/x-python",
   "name": "python",
   "nbconvert_exporter": "python",
   "pygments_lexer": "ipython3",
   "version": "3.7.1"
  },
  "latex_envs": {
   "LaTeX_envs_menu_present": true,
   "autoclose": false,
   "autocomplete": true,
   "bibliofile": "biblio.bib",
   "cite_by": "apalike",
   "current_citInitial": 1,
   "eqLabelWithNumbers": true,
   "eqNumInitial": 1,
   "hotkeys": {
    "equation": "Ctrl-E",
    "itemize": "Ctrl-I"
   },
   "labels_anchors": false,
   "latex_user_defs": false,
   "report_style_numbering": false,
   "user_envs_cfg": false
  },
  "toc": {
   "base_numbering": 1,
   "nav_menu": {},
   "number_sections": true,
   "sideBar": true,
   "skip_h1_title": false,
   "title_cell": "Table of Contents",
   "title_sidebar": "Contents",
   "toc_cell": false,
   "toc_position": {},
   "toc_section_display": true,
   "toc_window_display": false
  }
 },
 "nbformat": 4,
 "nbformat_minor": 2
}
