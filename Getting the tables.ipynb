{
 "cells": [
  {
   "cell_type": "code",
   "execution_count": 62,
   "metadata": {
    "ExecuteTime": {
     "end_time": "2019-01-15T21:49:57.629627Z",
     "start_time": "2019-01-15T21:49:57.626119Z"
    }
   },
   "outputs": [],
   "source": [
    "import selenium\n",
    "import pickle\n",
    "import basketball\n",
    "import requests\n",
    "\n",
    "import pandas as pd\n",
    "\n",
    "from bs4 import BeautifulSoup"
   ]
  },
  {
   "cell_type": "code",
   "execution_count": 63,
   "metadata": {
    "ExecuteTime": {
     "end_time": "2019-01-15T21:49:58.385558Z",
     "start_time": "2019-01-15T21:49:58.132719Z"
    }
   },
   "outputs": [],
   "source": [
    "# need urls\n",
    "\n",
    "# we will focus only on the year 1999\n",
    "starting_url = 'https://www.basketball-reference.com/leagues/NBA_1999.html'\n",
    "\n",
    "d  = {'id': 'teams_active'}\n",
    "page = requests.get(starting_url)\n",
    "soup = BeautifulSoup(page.text, 'lxml')"
   ]
  },
  {
   "cell_type": "code",
   "execution_count": 64,
   "metadata": {
    "ExecuteTime": {
     "end_time": "2019-01-15T21:56:49.990301Z",
     "start_time": "2019-01-15T21:56:49.967591Z"
    }
   },
   "outputs": [],
   "source": [
    "# this gets a list of the all teams in the nba\n",
    "trs = soup.find_all('tr')\n",
    "\n",
    "team_links = []\n",
    "teams = []\n",
    "\n",
    "for tr in trs:\n",
    "    if tr.a:\n",
    "        link = tr.a['href'].strip('/teams/').strip('/')\n",
    "        team_links.append(link)\n",
    "        teams.append(link.strip('/1999.html'))\n"
   ]
  },
  {
   "cell_type": "markdown",
   "metadata": {
    "ExecuteTime": {
     "end_time": "2019-01-15T21:23:47.478121Z",
     "start_time": "2019-01-15T21:23:47.471935Z"
    }
   },
   "source": [
    "now I have a list of teams. I can scrape each team page."
   ]
  },
  {
   "cell_type": "code",
   "execution_count": 65,
   "metadata": {
    "ExecuteTime": {
     "end_time": "2019-01-15T21:53:20.681931Z",
     "start_time": "2019-01-15T21:53:20.675813Z"
    }
   },
   "outputs": [
    {
     "data": {
      "text/plain": [
       "['https://www.basketball-reference.com/teams/MIA/1999.html',\n",
       " 'https://www.basketball-reference.com/teams/MIA/1999.html',\n",
       " 'https://www.basketball-reference.com/teams/ORL/1999.html']"
      ]
     },
     "execution_count": 65,
     "metadata": {},
     "output_type": "execute_result"
    }
   ],
   "source": [
    "urls = ['https://www.basketball-reference.com/teams/{}'.format(link) for link in team_links]\n",
    "urls[:3]"
   ]
  },
  {
   "cell_type": "code",
   "execution_count": 97,
   "metadata": {
    "ExecuteTime": {
     "end_time": "2019-01-15T21:58:15.168313Z",
     "start_time": "2019-01-15T21:57:47.912886Z"
    }
   },
   "outputs": [
    {
     "data": {
      "text/plain": [
       "dict_keys(['MIA', 'ORL', 'PHI', 'NYK', 'BOS', 'WAS', 'NJN', 'IND', 'ATL', 'DET', 'MIL', 'CHH', 'TOR', 'CLE', 'CHI', 'SAS', 'UTA', 'HOU', 'MIN', 'DAL', 'DEN', 'VAN', 'POR', 'LAL', 'PHO', 'SAC', 'SEA', 'GSW', 'LAC'])"
      ]
     },
     "execution_count": 97,
     "metadata": {},
     "output_type": "execute_result"
    }
   ],
   "source": [
    "import time\n",
    "\n",
    "database = {}\n",
    "\n",
    "for url, team in zip(urls, teams):\n",
    "    \n",
    "    database[team] = basketball.get_tables(url)\n",
    "    time.sleep(.1)\n",
    "    \n",
    "database.keys()"
   ]
  },
  {
   "cell_type": "code",
   "execution_count": 104,
   "metadata": {
    "ExecuteTime": {
     "end_time": "2019-01-15T23:48:32.806066Z",
     "start_time": "2019-01-15T23:48:30.206921Z"
    }
   },
   "outputs": [],
   "source": [
    "\n",
    "\n",
    "with open('database.pickle', 'wb') as f:\n",
    "    pickle.dump(database, f)"
   ]
  }
 ],
 "metadata": {
  "kernelspec": {
   "display_name": "Python 3",
   "language": "python",
   "name": "python3"
  },
  "language_info": {
   "codemirror_mode": {
    "name": "ipython",
    "version": 3
   },
   "file_extension": ".py",
   "mimetype": "text/x-python",
   "name": "python",
   "nbconvert_exporter": "python",
   "pygments_lexer": "ipython3",
   "version": "3.6.7"
  },
  "latex_envs": {
   "LaTeX_envs_menu_present": true,
   "autoclose": false,
   "autocomplete": true,
   "bibliofile": "biblio.bib",
   "cite_by": "apalike",
   "current_citInitial": 1,
   "eqLabelWithNumbers": true,
   "eqNumInitial": 1,
   "hotkeys": {
    "equation": "Ctrl-E",
    "itemize": "Ctrl-I"
   },
   "labels_anchors": false,
   "latex_user_defs": false,
   "report_style_numbering": false,
   "user_envs_cfg": false
  }
 },
 "nbformat": 4,
 "nbformat_minor": 2
}
