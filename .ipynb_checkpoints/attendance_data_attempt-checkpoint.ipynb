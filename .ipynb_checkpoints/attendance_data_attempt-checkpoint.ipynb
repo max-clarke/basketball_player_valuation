{
 "cells": [
  {
   "cell_type": "code",
   "execution_count": null,
   "metadata": {},
   "outputs": [],
   "source": []
  },
  {
   "cell_type": "code",
   "execution_count": null,
   "metadata": {},
   "outputs": [],
   "source": [
    "## SCRATCH AREA\n",
    "espn_url = 'http://www.espn.com/nba/attendance/_/year/2017'\n",
    "attend = get_tables(espn_url)\n",
    "\n",
    "df_test = attend[0].copy()"
   ]
  },
  {
   "cell_type": "code",
   "execution_count": null,
   "metadata": {},
   "outputs": [],
   "source": [
    "def clean_attend(attend):\n",
    "    df_a = attend[0].copy()\n",
    "\n",
    "    columns = ['RK', 'TEAM', 'HOME GMS', 'HM TOTAL', 'HM AVG', 'HM PCT', 'ROAD GMS', 'ROAD AVG',\n",
    "              'ROAD PCT', 'OVERALL GMS', 'OVERALL AVG', 'OVERALL PCT']\n",
    "\n",
    "    df_a.rename(mapper={n:column for n, column in zip(range(len(columns)), columns)}, axis=1, inplace=True)\n",
    "\n",
    "    df_a.drop(labels=[0,1], inplace=True)\n",
    "    df_a.reset_index(drop=True, inplace=True)\n",
    "    \n",
    "    for col in df_a.columns:\n",
    "        df_a[col] = df_a[col].apply(str.strip)\n",
    "    \n",
    "    return df_a"
   ]
  },
  {
   "cell_type": "code",
   "execution_count": null,
   "metadata": {},
   "outputs": [],
   "source": [
    "# retrieve and clean the data\n",
    "attends = {}\n",
    "for year in range(2008, 2019):\n",
    "    url = 'http://www.espn.com/nba/attendance/_/year/{}'.format(year)\n",
    "    attend = get_tables(url)\n",
    "    attends[year] = clean_attend(attend)"
   ]
  },
  {
   "cell_type": "code",
   "execution_count": null,
   "metadata": {},
   "outputs": [],
   "source": []
  },
  {
   "cell_type": "code",
   "execution_count": null,
   "metadata": {},
   "outputs": [],
   "source": []
  }
 ],
 "metadata": {
  "kernelspec": {
   "display_name": "Python 3",
   "language": "python",
   "name": "python3"
  },
  "language_info": {
   "codemirror_mode": {
    "name": "ipython",
    "version": 3
   },
   "file_extension": ".py",
   "mimetype": "text/x-python",
   "name": "python",
   "nbconvert_exporter": "python",
   "pygments_lexer": "ipython3",
   "version": "3.7.1"
  }
 },
 "nbformat": 4,
 "nbformat_minor": 2
}
