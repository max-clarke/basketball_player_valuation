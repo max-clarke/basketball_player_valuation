{
 "cells": [
  {
   "cell_type": "code",
   "execution_count": 1,
   "metadata": {
    "ExecuteTime": {
     "end_time": "2019-01-18T16:01:26.243515Z",
     "start_time": "2019-01-18T16:01:23.513291Z"
    }
   },
   "outputs": [],
   "source": [
    "import pandas as pd\n",
    "import seaborn as sns\n",
    "import matplotlib.pyplot as plt\n",
    "import numpy as np\n",
    "\n",
    "import basketball\n",
    "import pickle\n",
    "\n",
    "import statsmodels.formula.api as smf\n",
    "import statsmodels.api as sm"
   ]
  },
  {
   "cell_type": "code",
   "execution_count": 2,
   "metadata": {
    "ExecuteTime": {
     "end_time": "2019-01-18T16:01:27.054535Z",
     "start_time": "2019-01-18T16:01:27.046379Z"
    }
   },
   "outputs": [],
   "source": [
    "with open('final_df.pickle', 'rb') as f:\n",
    "    df = pickle.load(f)\n",
    "    \n",
    "df = pd.DataFrame(df)"
   ]
  },
  {
   "cell_type": "code",
   "execution_count": 4,
   "metadata": {
    "ExecuteTime": {
     "end_time": "2019-01-18T16:01:29.275182Z",
     "start_time": "2019-01-18T16:01:29.265787Z"
    }
   },
   "outputs": [
    {
     "data": {
      "text/plain": [
       "0\n",
       "Salary    1.000000\n",
       "MP        0.551441\n",
       "GS        0.539360\n",
       "G         0.336975\n",
       "DRB       0.317692\n",
       "2P        0.303083\n",
       "PTS       0.293230\n",
       "FG        0.279271\n",
       "BLK       0.252291\n",
       "FT        0.238259\n",
       "2PA       0.234655\n",
       "Age       0.232740\n",
       "TRB       0.199607\n",
       "FG%       0.193449\n",
       "FGA       0.177487\n",
       "FTA       0.176386\n",
       "2P%       0.154791\n",
       "AST       0.070152\n",
       "FT%       0.067614\n",
       "ORB       0.013816\n",
       "STL      -0.015815\n",
       "TOV      -0.042273\n",
       "3P       -0.088587\n",
       "3P%      -0.116598\n",
       "3PA      -0.117355\n",
       "PF       -0.176819\n",
       "Rk       -0.493571\n",
       "Name: Salary, dtype: float64"
      ]
     },
     "execution_count": 4,
     "metadata": {},
     "output_type": "execute_result"
    }
   ],
   "source": [
    "# CORRELATIONS WITH SALARY\n",
    "df.corr().sort_values('Salary', ascending=False)['Salary']"
   ]
  },
  {
   "cell_type": "code",
   "execution_count": 5,
   "metadata": {
    "ExecuteTime": {
     "end_time": "2019-01-18T16:01:32.057171Z",
     "start_time": "2019-01-18T16:01:32.051416Z"
    }
   },
   "outputs": [],
   "source": [
    "mapper = {'2P':'TwoPoint',\n",
    "          '2PA':'TwoPointAttempt',\n",
    "          '2P%':'TwoPointPercent',\n",
    "          'FG%': 'FieldGoalPercent',\n",
    "          'FT%':'FreeThrowPercent',\n",
    "          '3P%': 'ThreePointPercent'\n",
    "         }\n",
    "\n",
    "df.rename(columns=mapper, inplace=True)\n",
    "\n",
    "preliminary_columns = ['DRB', 'TwoPoint', 'PTS', 'FG', 'BLK', 'FT',\n",
    "                       'TwoPointAttempt', 'Age', 'PF', 'Salary']"
   ]
  },
  {
   "cell_type": "code",
   "execution_count": 7,
   "metadata": {
    "ExecuteTime": {
     "end_time": "2019-01-18T16:01:46.056909Z",
     "start_time": "2019-01-18T16:01:46.035467Z"
    }
   },
   "outputs": [],
   "source": [
    "# let's drop players with low minutes played per game, say less than 10\n",
    "df['MPperG'] = df['MP']/df['G']\n",
    "\n",
    "mask = (df['MPperG'] > 10)\n",
    "df_over_10 = df[mask]"
   ]
  },
  {
   "cell_type": "code",
   "execution_count": 8,
   "metadata": {
    "ExecuteTime": {
     "end_time": "2019-01-18T02:03:42.074470Z",
     "start_time": "2019-01-18T02:03:41.985113Z"
    }
   },
   "outputs": [
    {
     "data": {
      "text/html": [
       "<table class=\"simpletable\">\n",
       "<caption>OLS Regression Results</caption>\n",
       "<tr>\n",
       "  <th>Dep. Variable:</th>         <td>Salary</td>      <th>  R-squared:         </th> <td>   0.441</td> \n",
       "</tr>\n",
       "<tr>\n",
       "  <th>Model:</th>                   <td>OLS</td>       <th>  Adj. R-squared:    </th> <td>   0.424</td> \n",
       "</tr>\n",
       "<tr>\n",
       "  <th>Method:</th>             <td>Least Squares</td>  <th>  F-statistic:       </th> <td>   27.13</td> \n",
       "</tr>\n",
       "<tr>\n",
       "  <th>Date:</th>             <td>Thu, 17 Jan 2019</td> <th>  Prob (F-statistic):</th> <td>1.91e-34</td> \n",
       "</tr>\n",
       "<tr>\n",
       "  <th>Time:</th>                 <td>20:03:42</td>     <th>  Log-Likelihood:    </th> <td> -5125.1</td> \n",
       "</tr>\n",
       "<tr>\n",
       "  <th>No. Observations:</th>      <td>   320</td>      <th>  AIC:               </th> <td>1.027e+04</td>\n",
       "</tr>\n",
       "<tr>\n",
       "  <th>Df Residuals:</th>          <td>   310</td>      <th>  BIC:               </th> <td>1.031e+04</td>\n",
       "</tr>\n",
       "<tr>\n",
       "  <th>Df Model:</th>              <td>     9</td>      <th>                     </th>     <td> </td>    \n",
       "</tr>\n",
       "<tr>\n",
       "  <th>Covariance Type:</th>      <td>nonrobust</td>    <th>                     </th>     <td> </td>    \n",
       "</tr>\n",
       "</table>\n",
       "<table class=\"simpletable\">\n",
       "<tr>\n",
       "         <td></td>            <th>coef</th>     <th>std err</th>      <th>t</th>      <th>P>|t|</th>  <th>[0.025</th>    <th>0.975]</th>  \n",
       "</tr>\n",
       "<tr>\n",
       "  <th>Intercept</th>       <td>-5.809e+06</td> <td> 1.28e+06</td> <td>   -4.550</td> <td> 0.000</td> <td>-8.32e+06</td> <td> -3.3e+06</td>\n",
       "</tr>\n",
       "<tr>\n",
       "  <th>DRB</th>             <td> 2.782e+05</td> <td>    1e+05</td> <td>    2.774</td> <td> 0.006</td> <td> 8.09e+04</td> <td> 4.76e+05</td>\n",
       "</tr>\n",
       "<tr>\n",
       "  <th>TwoPoint</th>        <td> 1.024e+06</td> <td> 1.37e+06</td> <td>    0.749</td> <td> 0.454</td> <td>-1.66e+06</td> <td> 3.71e+06</td>\n",
       "</tr>\n",
       "<tr>\n",
       "  <th>PTS</th>             <td> 8.043e+05</td> <td> 1.31e+06</td> <td>    0.612</td> <td> 0.541</td> <td>-1.78e+06</td> <td> 3.39e+06</td>\n",
       "</tr>\n",
       "<tr>\n",
       "  <th>FG</th>              <td>-2.051e+06</td> <td> 3.94e+06</td> <td>   -0.521</td> <td> 0.603</td> <td>-9.81e+06</td> <td>  5.7e+06</td>\n",
       "</tr>\n",
       "<tr>\n",
       "  <th>BLK</th>             <td> 1.163e+06</td> <td> 2.12e+05</td> <td>    5.498</td> <td> 0.000</td> <td> 7.47e+05</td> <td> 1.58e+06</td>\n",
       "</tr>\n",
       "<tr>\n",
       "  <th>FT</th>              <td>-6.211e+05</td> <td> 1.32e+06</td> <td>   -0.471</td> <td> 0.638</td> <td>-3.22e+06</td> <td> 1.98e+06</td>\n",
       "</tr>\n",
       "<tr>\n",
       "  <th>Age</th>             <td> 1.954e+05</td> <td> 3.12e+04</td> <td>    6.270</td> <td> 0.000</td> <td> 1.34e+05</td> <td> 2.57e+05</td>\n",
       "</tr>\n",
       "<tr>\n",
       "  <th>PF</th>              <td>-6.427e+05</td> <td> 1.23e+05</td> <td>   -5.208</td> <td> 0.000</td> <td>-8.85e+05</td> <td>   -4e+05</td>\n",
       "</tr>\n",
       "<tr>\n",
       "  <th>TwoPointAttempt</th> <td> 4.335e+04</td> <td> 1.18e+05</td> <td>    0.367</td> <td> 0.714</td> <td>-1.89e+05</td> <td> 2.76e+05</td>\n",
       "</tr>\n",
       "</table>\n",
       "<table class=\"simpletable\">\n",
       "<tr>\n",
       "  <th>Omnibus:</th>       <td>60.482</td> <th>  Durbin-Watson:     </th> <td>   1.852</td>\n",
       "</tr>\n",
       "<tr>\n",
       "  <th>Prob(Omnibus):</th> <td> 0.000</td> <th>  Jarque-Bera (JB):  </th> <td> 121.042</td>\n",
       "</tr>\n",
       "<tr>\n",
       "  <th>Skew:</th>          <td> 0.988</td> <th>  Prob(JB):          </th> <td>5.20e-27</td>\n",
       "</tr>\n",
       "<tr>\n",
       "  <th>Kurtosis:</th>      <td> 5.274</td> <th>  Cond. No.          </th> <td>1.23e+03</td>\n",
       "</tr>\n",
       "</table><br/><br/>Warnings:<br/>[1] Standard Errors assume that the covariance matrix of the errors is correctly specified.<br/>[2] The condition number is large, 1.23e+03. This might indicate that there are<br/>strong multicollinearity or other numerical problems."
      ],
      "text/plain": [
       "<class 'statsmodels.iolib.summary.Summary'>\n",
       "\"\"\"\n",
       "                            OLS Regression Results                            \n",
       "==============================================================================\n",
       "Dep. Variable:                 Salary   R-squared:                       0.441\n",
       "Model:                            OLS   Adj. R-squared:                  0.424\n",
       "Method:                 Least Squares   F-statistic:                     27.13\n",
       "Date:                Thu, 17 Jan 2019   Prob (F-statistic):           1.91e-34\n",
       "Time:                        20:03:42   Log-Likelihood:                -5125.1\n",
       "No. Observations:                 320   AIC:                         1.027e+04\n",
       "Df Residuals:                     310   BIC:                         1.031e+04\n",
       "Df Model:                           9                                         \n",
       "Covariance Type:            nonrobust                                         \n",
       "===================================================================================\n",
       "                      coef    std err          t      P>|t|      [0.025      0.975]\n",
       "-----------------------------------------------------------------------------------\n",
       "Intercept       -5.809e+06   1.28e+06     -4.550      0.000   -8.32e+06    -3.3e+06\n",
       "DRB              2.782e+05      1e+05      2.774      0.006    8.09e+04    4.76e+05\n",
       "TwoPoint         1.024e+06   1.37e+06      0.749      0.454   -1.66e+06    3.71e+06\n",
       "PTS              8.043e+05   1.31e+06      0.612      0.541   -1.78e+06    3.39e+06\n",
       "FG              -2.051e+06   3.94e+06     -0.521      0.603   -9.81e+06     5.7e+06\n",
       "BLK              1.163e+06   2.12e+05      5.498      0.000    7.47e+05    1.58e+06\n",
       "FT              -6.211e+05   1.32e+06     -0.471      0.638   -3.22e+06    1.98e+06\n",
       "Age              1.954e+05   3.12e+04      6.270      0.000    1.34e+05    2.57e+05\n",
       "PF              -6.427e+05   1.23e+05     -5.208      0.000   -8.85e+05      -4e+05\n",
       "TwoPointAttempt  4.335e+04   1.18e+05      0.367      0.714   -1.89e+05    2.76e+05\n",
       "==============================================================================\n",
       "Omnibus:                       60.482   Durbin-Watson:                   1.852\n",
       "Prob(Omnibus):                  0.000   Jarque-Bera (JB):              121.042\n",
       "Skew:                           0.988   Prob(JB):                     5.20e-27\n",
       "Kurtosis:                       5.274   Cond. No.                     1.23e+03\n",
       "==============================================================================\n",
       "\n",
       "Warnings:\n",
       "[1] Standard Errors assume that the covariance matrix of the errors is correctly specified.\n",
       "[2] The condition number is large, 1.23e+03. This might indicate that there are\n",
       "strong multicollinearity or other numerical problems.\n",
       "\"\"\""
      ]
     },
     "execution_count": 8,
     "metadata": {},
     "output_type": "execute_result"
    }
   ],
   "source": [
    "# naive fit\n",
    "\n",
    "results = smf.ols(\n",
    "    'Salary ~ DRB + TwoPoint + PTS + FG + BLK + FT + Age + PF + TwoPointAttempt', \n",
    "    data=df_over_10).fit()\n",
    "\n",
    "results.summary()"
   ]
  },
  {
   "cell_type": "code",
   "execution_count": 8,
   "metadata": {
    "ExecuteTime": {
     "end_time": "2019-01-18T16:03:32.407791Z",
     "start_time": "2019-01-18T16:03:32.332743Z"
    }
   },
   "outputs": [
    {
     "data": {
      "text/html": [
       "<table class=\"simpletable\">\n",
       "<caption>OLS Regression Results</caption>\n",
       "<tr>\n",
       "  <th>Dep. Variable:</th>         <td>Salary</td>      <th>  R-squared:         </th> <td>   0.425</td> \n",
       "</tr>\n",
       "<tr>\n",
       "  <th>Model:</th>                   <td>OLS</td>       <th>  Adj. R-squared:    </th> <td>   0.416</td> \n",
       "</tr>\n",
       "<tr>\n",
       "  <th>Method:</th>             <td>Least Squares</td>  <th>  F-statistic:       </th> <td>   46.40</td> \n",
       "</tr>\n",
       "<tr>\n",
       "  <th>Date:</th>             <td>Fri, 18 Jan 2019</td> <th>  Prob (F-statistic):</th> <td>8.02e-36</td> \n",
       "</tr>\n",
       "<tr>\n",
       "  <th>Time:</th>                 <td>10:03:32</td>     <th>  Log-Likelihood:    </th> <td> -5129.5</td> \n",
       "</tr>\n",
       "<tr>\n",
       "  <th>No. Observations:</th>      <td>   320</td>      <th>  AIC:               </th> <td>1.027e+04</td>\n",
       "</tr>\n",
       "<tr>\n",
       "  <th>Df Residuals:</th>          <td>   314</td>      <th>  BIC:               </th> <td>1.029e+04</td>\n",
       "</tr>\n",
       "<tr>\n",
       "  <th>Df Model:</th>              <td>     5</td>      <th>                     </th>     <td> </td>    \n",
       "</tr>\n",
       "<tr>\n",
       "  <th>Covariance Type:</th>      <td>nonrobust</td>    <th>                     </th>     <td> </td>    \n",
       "</tr>\n",
       "</table>\n",
       "<table class=\"simpletable\">\n",
       "<tr>\n",
       "      <td></td>         <th>coef</th>     <th>std err</th>      <th>t</th>      <th>P>|t|</th>  <th>[0.025</th>    <th>0.975]</th>  \n",
       "</tr>\n",
       "<tr>\n",
       "  <th>Intercept</th> <td>-6.121e+06</td> <td> 1.24e+06</td> <td>   -4.945</td> <td> 0.000</td> <td>-8.56e+06</td> <td>-3.69e+06</td>\n",
       "</tr>\n",
       "<tr>\n",
       "  <th>DRB</th>       <td> 3.821e+05</td> <td> 9.18e+04</td> <td>    4.163</td> <td> 0.000</td> <td> 2.01e+05</td> <td> 5.63e+05</td>\n",
       "</tr>\n",
       "<tr>\n",
       "  <th>PTS</th>       <td> 2.726e+05</td> <td> 3.65e+04</td> <td>    7.468</td> <td> 0.000</td> <td> 2.01e+05</td> <td> 3.44e+05</td>\n",
       "</tr>\n",
       "<tr>\n",
       "  <th>BLK</th>       <td> 1.201e+06</td> <td> 2.11e+05</td> <td>    5.696</td> <td> 0.000</td> <td> 7.86e+05</td> <td> 1.62e+06</td>\n",
       "</tr>\n",
       "<tr>\n",
       "  <th>Age</th>       <td> 1.829e+05</td> <td> 3.09e+04</td> <td>    5.922</td> <td> 0.000</td> <td> 1.22e+05</td> <td> 2.44e+05</td>\n",
       "</tr>\n",
       "<tr>\n",
       "  <th>PF</th>        <td>-5.825e+05</td> <td> 1.22e+05</td> <td>   -4.755</td> <td> 0.000</td> <td>-8.23e+05</td> <td>-3.41e+05</td>\n",
       "</tr>\n",
       "</table>\n",
       "<table class=\"simpletable\">\n",
       "<tr>\n",
       "  <th>Omnibus:</th>       <td>64.808</td> <th>  Durbin-Watson:     </th> <td>   1.898</td>\n",
       "</tr>\n",
       "<tr>\n",
       "  <th>Prob(Omnibus):</th> <td> 0.000</td> <th>  Jarque-Bera (JB):  </th> <td> 134.258</td>\n",
       "</tr>\n",
       "<tr>\n",
       "  <th>Skew:</th>          <td> 1.039</td> <th>  Prob(JB):          </th> <td>7.02e-30</td>\n",
       "</tr>\n",
       "<tr>\n",
       "  <th>Kurtosis:</th>      <td> 5.398</td> <th>  Cond. No.          </th> <td>    311.</td>\n",
       "</tr>\n",
       "</table><br/><br/>Warnings:<br/>[1] Standard Errors assume that the covariance matrix of the errors is correctly specified."
      ],
      "text/plain": [
       "<class 'statsmodels.iolib.summary.Summary'>\n",
       "\"\"\"\n",
       "                            OLS Regression Results                            \n",
       "==============================================================================\n",
       "Dep. Variable:                 Salary   R-squared:                       0.425\n",
       "Model:                            OLS   Adj. R-squared:                  0.416\n",
       "Method:                 Least Squares   F-statistic:                     46.40\n",
       "Date:                Fri, 18 Jan 2019   Prob (F-statistic):           8.02e-36\n",
       "Time:                        10:03:32   Log-Likelihood:                -5129.5\n",
       "No. Observations:                 320   AIC:                         1.027e+04\n",
       "Df Residuals:                     314   BIC:                         1.029e+04\n",
       "Df Model:                           5                                         \n",
       "Covariance Type:            nonrobust                                         \n",
       "==============================================================================\n",
       "                 coef    std err          t      P>|t|      [0.025      0.975]\n",
       "------------------------------------------------------------------------------\n",
       "Intercept  -6.121e+06   1.24e+06     -4.945      0.000   -8.56e+06   -3.69e+06\n",
       "DRB         3.821e+05   9.18e+04      4.163      0.000    2.01e+05    5.63e+05\n",
       "PTS         2.726e+05   3.65e+04      7.468      0.000    2.01e+05    3.44e+05\n",
       "BLK         1.201e+06   2.11e+05      5.696      0.000    7.86e+05    1.62e+06\n",
       "Age         1.829e+05   3.09e+04      5.922      0.000    1.22e+05    2.44e+05\n",
       "PF         -5.825e+05   1.22e+05     -4.755      0.000   -8.23e+05   -3.41e+05\n",
       "==============================================================================\n",
       "Omnibus:                       64.808   Durbin-Watson:                   1.898\n",
       "Prob(Omnibus):                  0.000   Jarque-Bera (JB):              134.258\n",
       "Skew:                           1.039   Prob(JB):                     7.02e-30\n",
       "Kurtosis:                       5.398   Cond. No.                         311.\n",
       "==============================================================================\n",
       "\n",
       "Warnings:\n",
       "[1] Standard Errors assume that the covariance matrix of the errors is correctly specified.\n",
       "\"\"\""
      ]
     },
     "execution_count": 8,
     "metadata": {},
     "output_type": "execute_result"
    }
   ],
   "source": [
    "results = smf.ols(\n",
    "    'Salary ~ DRB + PTS + BLK + Age + PF', \n",
    "    data=df_over_10).fit()\n",
    "\n",
    "results.summary()"
   ]
  },
  {
   "cell_type": "markdown",
   "metadata": {},
   "source": [
    "## next steps:\n",
    "\n",
    "- Try out some polynomial terms, especially for PTS. \n",
    "- See if something such as a log tranform or box"
   ]
  },
  {
   "cell_type": "code",
   "execution_count": 51,
   "metadata": {
    "ExecuteTime": {
     "end_time": "2019-01-18T20:53:29.237778Z",
     "start_time": "2019-01-18T20:53:29.232491Z"
    }
   },
   "outputs": [
    {
     "name": "stdout",
     "output_type": "stream",
     "text": [
      "['Rk', 'Age', 'G', 'GS', 'MP', 'FG', 'FGA', '3P', '3PA', 'TwoPoint', 'TwoPointAttempt', 'FT', 'FTA', 'ORB', 'DRB', 'TRB', 'AST', 'STL', 'BLK', 'TOV', 'PF', 'PTS', 'MPperG']\n"
     ]
    }
   ],
   "source": [
    "# need to drop:\n",
    "# FreeThrowPercent, ThreePointPercent, FieldGoalPercent\n",
    "\n",
    "to_remove = ['Salary', 'FreeThrowPercent', 'ThreePointPercent',\n",
    "             'TwoPointPercent', 'FieldGoalPercent']\n",
    "\n",
    "columns = list(df.columns)\n",
    "for column in to_remove:\n",
    "    columns.remove(column)\n",
    "    \n",
    "print(columns)"
   ]
  },
  {
   "cell_type": "markdown",
   "metadata": {},
   "source": [
    "## Train, test split"
   ]
  },
  {
   "cell_type": "markdown",
   "metadata": {},
   "source": [
    "Steps:\n",
    "- train test split\n",
    "- cross validation w/ Grid search\n",
    "    - linear regression, lasso, ridge, elastic net\n",
    "    - try different params\n",
    "    - try polynomial features\n",
    "- analysis"
   ]
  },
  {
   "cell_type": "markdown",
   "metadata": {},
   "source": [
    "**OLS Regression**"
   ]
  },
  {
   "cell_type": "code",
   "execution_count": 183,
   "metadata": {
    "ExecuteTime": {
     "end_time": "2019-01-18T23:24:19.627537Z",
     "start_time": "2019-01-18T23:24:19.592875Z"
    },
    "code_folding": []
   },
   "outputs": [
    {
     "data": {
      "text/plain": [
       "0.3698090965277373"
      ]
     },
     "execution_count": 183,
     "metadata": {},
     "output_type": "execute_result"
    }
   ],
   "source": [
    "from sklearn.model_selection import train_test_split, cross_validate\n",
    "from sklearn.pipeline import Pipeline\n",
    "from sklearn.linear_model import Lasso, Ridge, LinearRegression\n",
    "from sklearn.preprocessing import StandardScaler\n",
    "\n",
    "X = df[columns].values\n",
    "y = df['Salary'].values\n",
    "\n"
   ]
  },
  {
   "cell_type": "code",
   "execution_count": 192,
   "metadata": {
    "ExecuteTime": {
     "end_time": "2019-01-18T23:27:49.460402Z",
     "start_time": "2019-01-18T23:27:49.456183Z"
    }
   },
   "outputs": [],
   "source": [
    "# let's attempt a log transform on y\n",
    "\n",
    "y = np.log(y)"
   ]
  },
  {
   "cell_type": "code",
   "execution_count": 193,
   "metadata": {
    "ExecuteTime": {
     "end_time": "2019-01-18T23:27:50.857035Z",
     "start_time": "2019-01-18T23:27:50.821394Z"
    }
   },
   "outputs": [
    {
     "data": {
      "text/plain": [
       "0.5008760370820076"
      ]
     },
     "execution_count": 193,
     "metadata": {},
     "output_type": "execute_result"
    }
   ],
   "source": [
    "X_train, X_test, y_train, y_test = train_test_split(X, y, test_size=.2,\n",
    "                                                   random_state = 1999)\n",
    "\n",
    "lm_pipe = Pipeline([\n",
    "    ('std_scl', StandardScaler()), \n",
    "    ('lm', LinearRegression())])\n",
    "\n",
    "\n",
    "cv_results = cross_validate(lm_pipe, X_train, y_train, cv=5)\n",
    "cv_results['test_score'].mean()"
   ]
  },
  {
   "cell_type": "markdown",
   "metadata": {},
   "source": [
    "Linear reg best score = 0.3698"
   ]
  },
  {
   "cell_type": "code",
   "execution_count": 214,
   "metadata": {
    "ExecuteTime": {
     "end_time": "2019-01-18T23:31:15.122708Z",
     "start_time": "2019-01-18T23:31:15.013551Z"
    }
   },
   "outputs": [
    {
     "name": "stdout",
     "output_type": "stream",
     "text": [
      "0.5144169329676337 \n",
      " {'lass__alpha': 0.00165}\n"
     ]
    }
   ],
   "source": [
    "from sklearn.model_selection import GridSearchCV\n",
    "    \n",
    "parameters = {'lass__alpha': [.00155, .0016, .00165, .0025]}\n",
    "\n",
    "lass_pipe = Pipeline([\n",
    "    ('std_scl', StandardScaler()),\n",
    "    ('lass', Lasso(max_iter=100000))\n",
    "])\n",
    "\n",
    "gcv = GridSearchCV(lass_pipe, parameters, cv=5, verbose=0)\n",
    "gcv.fit(X_train, y_train)\n",
    "\n",
    "print(gcv.best_score_, '\\n', gcv.best_params_)"
   ]
  },
  {
   "cell_type": "code",
   "execution_count": 219,
   "metadata": {
    "ExecuteTime": {
     "end_time": "2019-01-18T23:31:55.603257Z",
     "start_time": "2019-01-18T23:31:55.478155Z"
    }
   },
   "outputs": [
    {
     "name": "stdout",
     "output_type": "stream",
     "text": [
      "Fitting 5 folds for each of 5 candidates, totalling 25 fits\n",
      "0.5164978271029023 \n",
      " {'ridge__alpha': 5}\n"
     ]
    },
    {
     "name": "stderr",
     "output_type": "stream",
     "text": [
      "[Parallel(n_jobs=1)]: Using backend SequentialBackend with 1 concurrent workers.\n",
      "[Parallel(n_jobs=1)]: Done  25 out of  25 | elapsed:    0.1s finished\n"
     ]
    }
   ],
   "source": [
    "parameters = {'ridge__alpha': [1, 4, 5,6, 15]}\n",
    "\n",
    "ridge_pipe = Pipeline([\n",
    "    ('std_scl', StandardScaler()),\n",
    "    ('ridge', Ridge())\n",
    "])\n",
    "\n",
    "gcv = GridSearchCV(ridge_pipe, parameters, cv=5, verbose=1)\n",
    "gcv.fit(X_train, y_train)\n",
    "\n",
    "print(gcv.best_score_, '\\n', gcv.best_params_)"
   ]
  },
  {
   "cell_type": "code",
   "execution_count": 220,
   "metadata": {
    "ExecuteTime": {
     "end_time": "2019-01-18T23:32:37.483606Z",
     "start_time": "2019-01-18T23:32:29.688280Z"
    },
    "code_folding": []
   },
   "outputs": [
    {
     "name": "stdout",
     "output_type": "stream",
     "text": [
      "Fitting 5 folds for each of 77 candidates, totalling 385 fits\n"
     ]
    },
    {
     "name": "stderr",
     "output_type": "stream",
     "text": [
      "[Parallel(n_jobs=1)]: Using backend SequentialBackend with 1 concurrent workers.\n"
     ]
    },
    {
     "name": "stdout",
     "output_type": "stream",
     "text": [
      "0.5160718703034112 \n",
      " {'enet__alpha': 0.01, 'enet__l1_ratio': 0.05}\n"
     ]
    },
    {
     "name": "stderr",
     "output_type": "stream",
     "text": [
      "[Parallel(n_jobs=1)]: Done 385 out of 385 | elapsed:    7.8s finished\n"
     ]
    }
   ],
   "source": [
    "from sklearn.linear_model import ElasticNet\n",
    "\n",
    "parameters = {'enet__alpha': [0.0001, 0.001, 0.01, 0.03, 0.06, 0.1, 0.15],\n",
    "             'enet__l1_ratio': [0.01, .05, .1, .2, .3, .4, .5, .6, .7, .8, .9]}\n",
    "\n",
    "enet_pipe = Pipeline([\n",
    "    ('std_scl', StandardScaler()),\n",
    "    ('enet', ElasticNet(max_iter=100000))\n",
    "])\n",
    "\n",
    "gcv = GridSearchCV(enet_pipe, parameters, cv=5, verbose=1)\n",
    "gcv.fit(X_train, y_train)\n",
    "\n",
    "print(gcv.best_score_, '\\n', gcv.best_params_)"
   ]
  },
  {
   "cell_type": "code",
   "execution_count": 226,
   "metadata": {
    "ExecuteTime": {
     "end_time": "2019-01-18T23:41:48.129312Z",
     "start_time": "2019-01-18T23:41:48.002713Z"
    }
   },
   "outputs": [
    {
     "name": "stdout",
     "output_type": "stream",
     "text": [
      "Fitting 5 folds for each of 5 candidates, totalling 25 fits\n",
      "0.5164978271029023 \n",
      " {'ridge__alpha': 5}\n"
     ]
    },
    {
     "name": "stderr",
     "output_type": "stream",
     "text": [
      "[Parallel(n_jobs=1)]: Using backend SequentialBackend with 1 concurrent workers.\n",
      "[Parallel(n_jobs=1)]: Done  25 out of  25 | elapsed:    0.1s finished\n"
     ]
    }
   ],
   "source": [
    "from sklearn.ensemble import RandomForestRegressor\n",
    "\n",
    "parameters = {\n",
    "    'rf_reg__n_estimators': [50, 100,150, 200],\n",
    "    'rf_reg__max_depth': [4,5,6, None]\n",
    "}\n",
    "\n",
    "rf_reg_pipe = Pipeline([\n",
    "    ('std_scl', StandardScaler()),\n",
    "    ('rf_reg', RandomForestRegressor())\n",
    "])\n",
    "\n",
    "gcv = GridSearchCV(rf_reg_pipe, parameters, cv=5, verbose=1)\n",
    "gcv.fit(X_train, y_train)\n",
    "\n",
    "print(gcv.best_score_, '\\n', gcv.best_params_)"
   ]
  },
  {
   "cell_type": "markdown",
   "metadata": {},
   "source": [
    "## Let's make some predictions"
   ]
  },
  {
   "cell_type": "code",
   "execution_count": 260,
   "metadata": {
    "ExecuteTime": {
     "end_time": "2019-01-19T00:14:40.278154Z",
     "start_time": "2019-01-19T00:14:40.148284Z"
    }
   },
   "outputs": [
    {
     "name": "stdout",
     "output_type": "stream",
     "text": [
      "Fitting 5 folds for each of 5 candidates, totalling 25 fits\n",
      "{'ridge__alpha': 5}\n"
     ]
    },
    {
     "name": "stderr",
     "output_type": "stream",
     "text": [
      "[Parallel(n_jobs=1)]: Using backend SequentialBackend with 1 concurrent workers.\n",
      "[Parallel(n_jobs=1)]: Done  25 out of  25 | elapsed:    0.1s finished\n"
     ]
    }
   ],
   "source": [
    "# lasso was my best linear model\n",
    "\n",
    "parameters = {'ridge__alpha': [1, 4, 5,6, 15]}\n",
    "\n",
    "ridge_pipe = Pipeline([\n",
    "    ('std_scl', StandardScaler()),\n",
    "    ('ridge', Ridge())\n",
    "])\n",
    "\n",
    "gcv = GridSearchCV(ridge_pipe, parameters, cv=5, verbose=1)\n",
    "gcv.fit(X_train, y_train)\n",
    "\n",
    "best_est = gcv.best_estimator_\n",
    "print(gcv.best_params_)"
   ]
  },
  {
   "cell_type": "code",
   "execution_count": 262,
   "metadata": {
    "ExecuteTime": {
     "end_time": "2019-01-19T00:16:38.243014Z",
     "start_time": "2019-01-19T00:16:38.227096Z"
    }
   },
   "outputs": [
    {
     "name": "stdout",
     "output_type": "stream",
     "text": [
      "r2:\t 0.4980347219420135\n",
      "rmse:\t 0.7396511669414985\n"
     ]
    }
   ],
   "source": [
    "from sklearn.metrics import r2_score, mean_squared_error\n",
    "\n",
    "best_pipe =  Pipeline([\n",
    "    ('std_scl', StandardScaler()),\n",
    "    ('ridge', Ridge(alpha=5))\n",
    "])\n",
    "\n",
    "best_pipe.fit(X_train, y_train)\n",
    "\n",
    "y_pred = best_pipe.predict(X_test) # I should probably retrain on the whole training set\n",
    "\n",
    "print('r2:\\t', r2_score(y_test, y_pred))\n",
    "print('rmse:\\t', np.sqrt(mean_squared_error(y_test, y_pred)))"
   ]
  },
  {
   "cell_type": "code",
   "execution_count": 263,
   "metadata": {
    "ExecuteTime": {
     "end_time": "2019-01-19T00:16:44.397303Z",
     "start_time": "2019-01-19T00:16:44.181219Z"
    }
   },
   "outputs": [
    {
     "data": {
      "text/plain": [
       "<matplotlib.collections.PathCollection at 0x1c294a50b8>"
      ]
     },
     "execution_count": 263,
     "metadata": {},
     "output_type": "execute_result"
    },
    {
     "data": {
      "image/png": "[encoded data removed]",
      "text/plain": [
       "<Figure size 432x288 with 1 Axes>"
      ]
     },
     "metadata": {
      "needs_background": "light"
     },
     "output_type": "display_data"
    }
   ],
   "source": [
    "import matplotlib.pyplot as plt\n",
    "\n",
    "res = y_pred - y_test\n",
    "\n",
    "plt.scatter([n for n in range(len(res))], res)"
   ]
  },
  {
   "cell_type": "markdown",
   "metadata": {},
   "source": [
    "With the outliers towards the bottom, maybe polynomial features would work, though the order (in x) is random"
   ]
  },
  {
   "cell_type": "code",
   "execution_count": 264,
   "metadata": {
    "ExecuteTime": {
     "end_time": "2019-01-19T00:16:47.830340Z",
     "start_time": "2019-01-19T00:16:47.823301Z"
    }
   },
   "outputs": [
    {
     "data": {
      "text/plain": [
       "array([4490000.,  480000., 1820000., 2310000., 1250000., 3300000.,\n",
       "        680000., 1240000., 1310000., 2890000., 4930000., 2780000.,\n",
       "       1360000., 2840000.,  820000.,  330000.,  510000., 1360000.,\n",
       "       1090000.,  240000., 1650000., 2670000., 4080000., 3360000.,\n",
       "       3930000.,  840000., 3110000., 1250000.,  780000., 1020000.,\n",
       "       2610000., 2940000., 1630000., 7290000.,  510000.,  900000.,\n",
       "        740000., 7230000., 6220000.,  860000., 3520000.,  920000.,\n",
       "        730000.,  530000.,  850000.,  540000., 2040000.,  580000.,\n",
       "       1390000., 3990000., 1240000., 2410000., 4510000., 2210000.,\n",
       "       7440000., 1110000.,  560000., 2370000.,  820000., 1010000.,\n",
       "       3900000., 2150000., 1340000., 2760000.,  660000.,  960000.,\n",
       "        330000., 5480000., 1380000., 1680000., 9030000., 5380000.,\n",
       "        580000.,  640000., 3570000.,  600000., 1130000., 3190000.,\n",
       "       1870000.])"
      ]
     },
     "execution_count": 264,
     "metadata": {},
     "output_type": "execute_result"
    }
   ],
   "source": [
    "# how to get players back?\n",
    "np.round(np.exp(y_pred), decimals=-4)\n"
   ]
  },
  {
   "cell_type": "code",
   "execution_count": 265,
   "metadata": {
    "ExecuteTime": {
     "end_time": "2019-01-19T00:16:48.971933Z",
     "start_time": "2019-01-19T00:16:48.963742Z"
    }
   },
   "outputs": [
    {
     "data": {
      "text/plain": [
       "2296333.6324282163"
      ]
     },
     "execution_count": 265,
     "metadata": {},
     "output_type": "execute_result"
    }
   ],
   "source": [
    "y_test_real = np.exp(y_test)\n",
    "y_pred_real = np.exp(y_pred)\n",
    "\n",
    "np.sqrt(mean_squared_error(y_test_real, y_pred_real))"
   ]
  },
  {
   "cell_type": "code",
   "execution_count": 266,
   "metadata": {
    "ExecuteTime": {
     "end_time": "2019-01-19T00:16:49.749573Z",
     "start_time": "2019-01-19T00:16:49.525528Z"
    }
   },
   "outputs": [
    {
     "data": {
      "text/plain": [
       "<matplotlib.collections.PathCollection at 0x1c291ea4a8>"
      ]
     },
     "execution_count": 266,
     "metadata": {},
     "output_type": "execute_result"
    },
    {
     "data": {
      "image/png": "[encoded data removed]",
      "text/plain": [
       "<Figure size 432x288 with 1 Axes>"
      ]
     },
     "metadata": {
      "needs_background": "light"
     },
     "output_type": "display_data"
    }
   ],
   "source": [
    "res_real = y_pred_real - y_test_real\n",
    "res_x = [n for n in range(len(res_real))]\n",
    "\n",
    "plt.scatter(res_x, res_real)"
   ]
  },
  {
   "cell_type": "code",
   "execution_count": 272,
   "metadata": {
    "ExecuteTime": {
     "end_time": "2019-01-19T01:45:30.712067Z",
     "start_time": "2019-01-19T01:45:30.693313Z"
    }
   },
   "outputs": [
    {
     "data": {
      "text/html": [
       "<div>\n",
       "<style scoped>\n",
       "    .dataframe tbody tr th:only-of-type {\n",
       "        vertical-align: middle;\n",
       "    }\n",
       "\n",
       "    .dataframe tbody tr th {\n",
       "        vertical-align: top;\n",
       "    }\n",
       "\n",
       "    .dataframe thead th {\n",
       "        text-align: right;\n",
       "    }\n",
       "</style>\n",
       "<table border=\"1\" class=\"dataframe\">\n",
       "  <thead>\n",
       "    <tr style=\"text-align: right;\">\n",
       "      <th></th>\n",
       "      <th>Salary</th>\n",
       "      <th>Predicted Salary</th>\n",
       "      <th>Salary Error</th>\n",
       "    </tr>\n",
       "    <tr>\n",
       "      <th>Name</th>\n",
       "      <th></th>\n",
       "      <th></th>\n",
       "      <th></th>\n",
       "    </tr>\n",
       "  </thead>\n",
       "  <tbody>\n",
       "    <tr>\n",
       "      <th>Tony Massenburg</th>\n",
       "      <td>900000</td>\n",
       "      <td>3410000</td>\n",
       "      <td>-2510000</td>\n",
       "    </tr>\n",
       "    <tr>\n",
       "      <th>Tim Duncan</th>\n",
       "      <td>3413000</td>\n",
       "      <td>6080000</td>\n",
       "      <td>-2667000</td>\n",
       "    </tr>\n",
       "    <tr>\n",
       "      <th>Mitch Richmond</th>\n",
       "      <td>2500000</td>\n",
       "      <td>5510000</td>\n",
       "      <td>-3010000</td>\n",
       "    </tr>\n",
       "    <tr>\n",
       "      <th>Terry Cummings</th>\n",
       "      <td>1150000</td>\n",
       "      <td>4510000</td>\n",
       "      <td>-3360000</td>\n",
       "    </tr>\n",
       "    <tr>\n",
       "      <th>Dennis Rodman</th>\n",
       "      <td>1000000</td>\n",
       "      <td>4580000</td>\n",
       "      <td>-3580000</td>\n",
       "    </tr>\n",
       "    <tr>\n",
       "      <th>Olden Polynice</th>\n",
       "      <td>1000000</td>\n",
       "      <td>4610000</td>\n",
       "      <td>-3610000</td>\n",
       "    </tr>\n",
       "    <tr>\n",
       "      <th>Detlef Schrempf</th>\n",
       "      <td>3333000</td>\n",
       "      <td>7330000</td>\n",
       "      <td>-3997000</td>\n",
       "    </tr>\n",
       "    <tr>\n",
       "      <th>Kevin Willis</th>\n",
       "      <td>2100000</td>\n",
       "      <td>6130000</td>\n",
       "      <td>-4030000</td>\n",
       "    </tr>\n",
       "    <tr>\n",
       "      <th>Karl Malone</th>\n",
       "      <td>6142000</td>\n",
       "      <td>11340000</td>\n",
       "      <td>-5198000</td>\n",
       "    </tr>\n",
       "    <tr>\n",
       "      <th>Charles Barkley</th>\n",
       "      <td>1000000</td>\n",
       "      <td>9030000</td>\n",
       "      <td>-8030000</td>\n",
       "    </tr>\n",
       "  </tbody>\n",
       "</table>\n",
       "</div>"
      ],
      "text/plain": [
       "0                 Salary  Predicted Salary  Salary Error\n",
       "Name                                                    \n",
       "Tony Massenburg   900000           3410000      -2510000\n",
       "Tim Duncan       3413000           6080000      -2667000\n",
       "Mitch Richmond   2500000           5510000      -3010000\n",
       "Terry Cummings   1150000           4510000      -3360000\n",
       "Dennis Rodman    1000000           4580000      -3580000\n",
       "Olden Polynice   1000000           4610000      -3610000\n",
       "Detlef Schrempf  3333000           7330000      -3997000\n",
       "Kevin Willis     2100000           6130000      -4030000\n",
       "Karl Malone      6142000          11340000      -5198000\n",
       "Charles Barkley  1000000           9030000      -8030000"
      ]
     },
     "execution_count": 272,
     "metadata": {},
     "output_type": "execute_result"
    }
   ],
   "source": [
    "df_X = df[columns]\n",
    "df_y = df[['Salary']].copy()\n",
    "\n",
    "df_y_pred = np.exp(best_est.predict(df_X.values))\n",
    "df_y['Predicted Salary'] = np.round(df_y_pred.astype(int), -4)\n",
    "df_y['Salary Error'] = df_y['Salary'] - df_y['Predicted Salary']\n",
    "\n",
    "df_y.sort_values('Salary Error', ascending=False).tail(10)"
   ]
  },
  {
   "cell_type": "code",
   "execution_count": null,
   "metadata": {},
   "outputs": [],
   "source": []
  }
 ],
 "metadata": {
  "kernelspec": {
   "display_name": "Python 3",
   "language": "python",
   "name": "python3"
  },
  "language_info": {
   "codemirror_mode": {
    "name": "ipython",
    "version": 3
   },
   "file_extension": ".py",
   "mimetype": "text/x-python",
   "name": "python",
   "nbconvert_exporter": "python",
   "pygments_lexer": "ipython3",
   "version": "3.7.1"
  },
  "latex_envs": {
   "LaTeX_envs_menu_present": true,
   "autoclose": false,
   "autocomplete": true,
   "bibliofile": "biblio.bib",
   "cite_by": "apalike",
   "current_citInitial": 1,
   "eqLabelWithNumbers": true,
   "eqNumInitial": 1,
   "hotkeys": {
    "equation": "Ctrl-E",
    "itemize": "Ctrl-I"
   },
   "labels_anchors": false,
   "latex_user_defs": false,
   "report_style_numbering": false,
   "user_envs_cfg": false
  },
  "toc": {
   "base_numbering": 1,
   "nav_menu": {},
   "number_sections": true,
   "sideBar": true,
   "skip_h1_title": false,
   "title_cell": "Table of Contents",
   "title_sidebar": "Contents",
   "toc_cell": false,
   "toc_position": {},
   "toc_section_display": true,
   "toc_window_display": false
  }
 },
 "nbformat": 4,
 "nbformat_minor": 2
}
